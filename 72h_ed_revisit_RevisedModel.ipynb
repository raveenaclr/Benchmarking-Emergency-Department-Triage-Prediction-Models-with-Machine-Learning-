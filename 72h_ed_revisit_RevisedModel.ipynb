{
 "cells": [
  {
   "cell_type": "markdown",
   "metadata": {},
   "source": [
    "## Modeling for predicting 72h ED revisit at ED discharge"
   ]
  },
  {
   "cell_type": "markdown",
   "metadata": {},
   "source": [
    "Flow:\n",
    "1. Task-specific filter\n",
    "2. Variable selection\n",
    "3. Modeling script\n",
    "4. Performance output\n"
   ]
  },
  {
   "cell_type": "markdown",
   "metadata": {},
   "source": [
    "### Load train and test"
   ]
  },
  {
   "cell_type": "code",
   "execution_count": 1,
   "metadata": {},
   "outputs": [],
   "source": [
    "import os\n",
    "import time\n",
    "import tensorflow as tf\n",
    "import numpy as np\n",
    "import pandas as pd\n",
    "from matplotlib import pyplot as plt\n",
    "from sklearn.preprocessing import LabelEncoder\n",
    "from tensorflow.keras import optimizers, metrics\n",
    "from tensorflow.keras.layers import Dense, LSTM\n",
    "from tensorflow.keras.layers import concatenate\n",
    "from tensorflow.keras.models import load_model\n",
    "from helpers6 import PlotROCCurve, get_lstm_data_gen\n",
    "confidence_interval = 95\n",
    "random_seed=0"
   ]
  },
  {
   "cell_type": "code",
   "execution_count": 2,
   "metadata": {},
   "outputs": [],
   "source": [
    "df_master = pd.read_csv('tidy_dataset_3-REV19AUGAMPM.csv')\n",
    "df=df_master.copy()\n",
    "pd.set_option(\"display.max_columns\", 4000)\n",
    "pd.set_option(\"display.max_rows\", 4000)"
   ]
  },
  {
   "cell_type": "markdown",
   "metadata": {},
   "source": [
    "# Create variables from code"
   ]
  },
  {
   "cell_type": "code",
   "execution_count": 3,
   "metadata": {},
   "outputs": [],
   "source": [
    "from helpers6 import add_score_REMS,add_score_NEWS2,add_score_MEWS,add_triage_MAP,add_score_NEWS"
   ]
  },
  {
   "cell_type": "code",
   "execution_count": 4,
   "metadata": {},
   "outputs": [],
   "source": [
    "#remove subjID with more than 85 repeats\n",
    "indexNames = df[ df['edstays_patients_on_subject'] >46 ].index\n",
    "df.drop(indexNames , inplace=True)"
   ]
  },
  {
   "cell_type": "code",
   "execution_count": 5,
   "metadata": {},
   "outputs": [],
   "source": [
    "def add_triage_MAP(df):\n",
    "    df['triage_MAP'] = df['ed_sbp_last_recoded']*1/3 + df['ed_dbp_last_recoded']*2/3\n",
    "    print(\"Variable 'add_triage_MAP' successfully added\")"
   ]
  },
  {
   "cell_type": "code",
   "execution_count": 6,
   "metadata": {},
   "outputs": [],
   "source": [
    "df.drop(['triage_temperature','triage_heartrate','triage_resprate','triage_o2sat','triage_sbp','triage_dbp'], axis=1, inplace=True)"
   ]
  },
  {
   "cell_type": "code",
   "execution_count": 7,
   "metadata": {},
   "outputs": [],
   "source": [
    "df.rename(columns={'triage_temperature_recoded_2': 'triage_temperature','triage_heartrate_recoded': 'triage_heartrate',\n",
    "                  'triage_resprate_recoded': 'triage_resprate','triage_o2sat_recoded': 'triage_o2sat','triage_sbp_recoded': 'triage_sbp',\n",
    "                  'triage_dbp_recoded': 'triage_dbp'}, inplace=True)"
   ]
  },
  {
   "cell_type": "code",
   "execution_count": 8,
   "metadata": {},
   "outputs": [],
   "source": [
    "df=df.dropna(subset = ['triage_sbp', 'triage_dbp'])"
   ]
  },
  {
   "cell_type": "code",
   "execution_count": 9,
   "metadata": {},
   "outputs": [
    {
     "name": "stdout",
     "output_type": "stream",
     "text": [
      "Variable 'add_triage_MAP' successfully added\n",
      "Variable 'Score_NEWS2' successfully added\n",
      "Variable 'Score_REMS' successfully added\n",
      "Variable 'Score_MEWS' successfully added\n",
      "Variable 'Score_NEWS' successfully added\n"
     ]
    }
   ],
   "source": [
    "# create a column 'ed_death' to represent those dies in ED room\n",
    "df['ed_death'] = np.where((df['deathtime']> df['intime_ed']) & (df['deathtime']< df['outtime_ed']), True, False)\n",
    "df['score_CCI'] = df['cci_MI'] + df['cci_CHF'] + df['cci_PVD'] + df['cci_Stroke'] + df['cci_Dementia'] + df['cci_Pulmonary'] + df['cci_PUD'] + df['cci_Rheumatic'] +df['cci_Liver1']*1 + df['cci_Liver2']*3 + df['cci_DM1'] + df['cci_DM2']*2 +df['cci_Paralysis']*2 + df['cci_Renal']*2 + df['cci_Cancer1']*2 + df['cci_Cancer2']*6 + df['cci_HIV']*6\n",
    "add_triage_MAP(df)\n",
    "add_score_NEWS2(df)\n",
    "add_score_REMS(df)\n",
    "add_score_MEWS(df)\n",
    "add_score_NEWS(df)"
   ]
  },
  {
   "cell_type": "code",
   "execution_count": 10,
   "metadata": {},
   "outputs": [],
   "source": [
    "#to determine number of ed visits in the past 30d\n",
    "df['intime_ed'] = pd.to_datetime(df['intime_ed'], format='%Y/%m/%d %H:%M:%S %p')\n",
    "df['outtime_ed'] = pd.to_datetime(df['outtime_ed'], format='%Y/%m/%d %H:%M:%S %p')\n",
    "df.sort_values(by=['subject_id','intime_ed'], inplace=True)\n",
    "df=df.reset_index()"
   ]
  },
  {
   "cell_type": "code",
   "execution_count": 11,
   "metadata": {},
   "outputs": [],
   "source": [
    "from datetime import timedelta\n",
    "timerange_delta = timedelta(days=30)\n",
    "N = len(df)\n",
    "n_ed = [0 for _ in range(N)]"
   ]
  },
  {
   "cell_type": "code",
   "execution_count": 12,
   "metadata": {},
   "outputs": [
    {
     "name": "stdout",
     "output_type": "stream",
     "text": [
      "Process: 417917/417917\r"
     ]
    }
   ],
   "source": [
    "    def get_num_past_ed_visits(df):\n",
    "        start = df.index[0]\n",
    "        for i in df.index:\n",
    "            if i % 10000 == 0:\n",
    "                print('Process: %d/%d' % (i, N), end='\\r')\n",
    "            while df.loc[i, 'intime_ed'] - df.loc[start, 'intime_ed'] > timerange_delta:\n",
    "                start += 1\n",
    "            n_ed[i] = i - start\n",
    "\n",
    "    grouped = df.groupby('subject_id')\n",
    "    grouped.apply(get_num_past_ed_visits)\n",
    "    print('Process: %d/%d' % (N, N), end='\\r')\n",
    "\n",
    "    df.loc[:, ''.join(['n_ed_', str(30), \"d\"])] = n_ed"
   ]
  },
  {
   "cell_type": "code",
   "execution_count": 13,
   "metadata": {},
   "outputs": [
    {
     "data": {
      "text/plain": [
       "index                                0\n",
       "subject_id                           0\n",
       "in_year                              0\n",
       "edstays_patients_on_subject          0\n",
       "intime_ed_hour                       0\n",
       "hadm_id                         223654\n",
       "stay_id                              0\n",
       "intime_ed                            0\n",
       "outtime_ed                           0\n",
       "anchor_age                           0\n",
       "gender                               0\n",
       "anchor_year                          0\n",
       "dod                             357455\n",
       "admittime                       223763\n",
       "dischtime                       223763\n",
       "deathtime                       414034\n",
       "race                            138534\n",
       "race_recoded                    138534\n",
       "edregtime                       223811\n",
       "edouttime                       223811\n",
       "insurance                       223763\n",
       "age                                  0\n",
       "before_ed_mortality                  0\n",
       "outcome_hospitalization              0\n",
       "outcome_inhospital_mortality         0\n",
       "intime_icu                      392325\n",
       "outtime_icu                     392325\n",
       "outcome_icu_transfer_12h             0\n",
       "outcome_critical                     0\n",
       "icu_los                         392325\n",
       "outcome_ed_revisit_3d                0\n",
       "triage_temperature                   0\n",
       "triage_heartrate                     0\n",
       "triage_resprate                      0\n",
       "triage_o2sat                         0\n",
       "triage_sbp                           0\n",
       "triage_sbp_recoded_2                 0\n",
       "triage_dbp                           0\n",
       "triage_dbp_recoded_2                 0\n",
       "hos_los                         223763\n",
       "ed_los                               0\n",
       "triage_pain                      14532\n",
       "triage_pain_recoded                  0\n",
       "triage_acuity                        0\n",
       "chiefcomplaint                       9\n",
       "chiefcom_chest_pain                  0\n",
       "chiefcom_abdominal_pain              0\n",
       "chiefcom_headache                    0\n",
       "chiefcom_shortness_of_breath         0\n",
       "chiefcom_back_pain                   0\n",
       "chiefcom_cough                       0\n",
       "chiefcom_nausea_vomiting             0\n",
       "chiefcom_fever_chills                0\n",
       "chiefcom_syncope                     0\n",
       "chiefcom_dizziness                   0\n",
       "cci_MI                               0\n",
       "cci_CHF                              0\n",
       "cci_PVD                              0\n",
       "cci_Stroke                           0\n",
       "cci_Dementia                         0\n",
       "cci_Pulmonary                        0\n",
       "cci_Rheumatic                        0\n",
       "cci_PUD                              0\n",
       "cci_Liver1                           0\n",
       "cci_DM1                              0\n",
       "cci_DM2                              0\n",
       "cci_Paralysis                        0\n",
       "cci_Renal                            0\n",
       "cci_Cancer1                          0\n",
       "cci_Liver2                           0\n",
       "cci_Cancer2                          0\n",
       "cci_HIV                              0\n",
       "eci_CHF                              0\n",
       "eci_Arrhythmia                       0\n",
       "eci_Valvular                         0\n",
       "eci_PHTN                             0\n",
       "eci_PVD                              0\n",
       "eci_HTN1                             0\n",
       "eci_HTN2                             0\n",
       "eci_Paralysis                        0\n",
       "eci_NeuroOther                       0\n",
       "eci_Pulmonary                        0\n",
       "eci_DM1                              0\n",
       "eci_DM2                              0\n",
       "eci_Hypothyroid                      0\n",
       "eci_Renal                            0\n",
       "eci_Liver                            0\n",
       "eci_PUD                              0\n",
       "eci_HIV                              0\n",
       "eci_Lymphoma                         0\n",
       "eci_Tumor2                           0\n",
       "eci_Tumor1                           0\n",
       "eci_Rheumatic                        0\n",
       "eci_Coagulopathy                     0\n",
       "eci_Obesity                          0\n",
       "eci_WeightLoss                       0\n",
       "eci_FluidsLytes                      0\n",
       "eci_BloodLoss                        0\n",
       "eci_Anemia                           0\n",
       "eci_Alcohol                          0\n",
       "eci_Drugs                            0\n",
       "eci_Psychoses                        0\n",
       "eci_Depression                       0\n",
       "ed_temperature_last              20419\n",
       "ed_temperature_last_recoded          0\n",
       "ed_heartrate_last                13672\n",
       "ed_heartrate_last_recoded            0\n",
       "ed_resprate_last                 14175\n",
       "ed_resprate_last_recoded             0\n",
       "ed_o2sat_last                    24490\n",
       "ed_o2sat_last_recoded                0\n",
       "ed_sbp_last                      13734\n",
       "ed_sbp_last_recoded                  0\n",
       "ed_sbp_last_recoded_2                0\n",
       "ed_dbp_last                      13734\n",
       "ed_dbp_last_recoded                  0\n",
       "ed_dbp_last_recoded_2                0\n",
       "ed_pain_last                     42396\n",
       "ed_pain_last_recoded                 0\n",
       "n_med                                0\n",
       "n_medrecon                           0\n",
       "ed_death                             0\n",
       "score_CCI                            0\n",
       "triage_MAP                           0\n",
       "score_NEWS2                          0\n",
       "score_REMS                           0\n",
       "score_MEWS                           0\n",
       "score_NEWS                           0\n",
       "n_ed_30d                             0\n",
       "dtype: int64"
      ]
     },
     "execution_count": 13,
     "metadata": {},
     "output_type": "execute_result"
    }
   ],
   "source": [
    "#Check null values\n",
    "df=df.dropna(subset=['age', 'gender','triage_acuity'])\n",
    "df.isnull().sum()"
   ]
  },
  {
   "cell_type": "code",
   "execution_count": 14,
   "metadata": {},
   "outputs": [
    {
     "name": "stderr",
     "output_type": "stream",
     "text": [
      "/opt/anaconda3/envs/tensorflow/lib/python3.7/site-packages/ipykernel_launcher.py:2: SettingWithCopyWarning: \n",
      "A value is trying to be set on a copy of a slice from a DataFrame.\n",
      "Try using .loc[row_indexer,col_indexer] = value instead\n",
      "\n",
      "See the caveats in the documentation: https://pandas.pydata.org/pandas-docs/stable/user_guide/indexing.html#returning-a-view-versus-a-copy\n",
      "  \n",
      "/opt/anaconda3/envs/tensorflow/lib/python3.7/site-packages/ipykernel_launcher.py:3: SettingWithCopyWarning: \n",
      "A value is trying to be set on a copy of a slice from a DataFrame.\n",
      "Try using .loc[row_indexer,col_indexer] = value instead\n",
      "\n",
      "See the caveats in the documentation: https://pandas.pydata.org/pandas-docs/stable/user_guide/indexing.html#returning-a-view-versus-a-copy\n",
      "  This is separate from the ipykernel package so we can avoid doing imports until\n",
      "/opt/anaconda3/envs/tensorflow/lib/python3.7/site-packages/ipykernel_launcher.py:4: SettingWithCopyWarning: \n",
      "A value is trying to be set on a copy of a slice from a DataFrame.\n",
      "Try using .loc[row_indexer,col_indexer] = value instead\n",
      "\n",
      "See the caveats in the documentation: https://pandas.pydata.org/pandas-docs/stable/user_guide/indexing.html#returning-a-view-versus-a-copy\n",
      "  after removing the cwd from sys.path.\n"
     ]
    }
   ],
   "source": [
    "#data wrangling for hos_los & icu_los\n",
    "df['icu_los'] = df['icu_los'].fillna(-1)\n",
    "df['hos_los'] = df['hos_los'].mask(df['hos_los'] < 0, -1)\n",
    "df['hos_los'] = df['hos_los'].fillna (-1)"
   ]
  },
  {
   "cell_type": "code",
   "execution_count": 15,
   "metadata": {},
   "outputs": [
    {
     "name": "stderr",
     "output_type": "stream",
     "text": [
      "/opt/anaconda3/envs/tensorflow/lib/python3.7/site-packages/ipykernel_launcher.py:2: SettingWithCopyWarning: \n",
      "A value is trying to be set on a copy of a slice from a DataFrame.\n",
      "Try using .loc[row_indexer,col_indexer] = value instead\n",
      "\n",
      "See the caveats in the documentation: https://pandas.pydata.org/pandas-docs/stable/user_guide/indexing.html#returning-a-view-versus-a-copy\n",
      "  \n"
     ]
    }
   ],
   "source": [
    "#create variable to aggregate ECI\n",
    "df['sum_eci']=df['eci_CHF']+df['eci_Arrhythmia']+df['eci_Valvular']+df['eci_PHTN']+df['eci_PVD']+df['eci_HTN1']+ df['eci_HTN2']+df['eci_Paralysis']+df['eci_NeuroOther']+df['eci_Pulmonary']+df['eci_DM1']+df['eci_DM2']+df['eci_Hypothyroid']+ df['eci_Renal']+df['eci_Liver']+df['eci_PUD']+df['eci_HIV']+df['eci_Lymphoma']+df['eci_Tumor2']+df['eci_Tumor1'] +df['eci_Rheumatic']+df['eci_Coagulopathy']+df['eci_Obesity']+df['eci_WeightLoss']+df['eci_FluidsLytes']+df['eci_BloodLoss'] +df['eci_Anemia']+df['eci_Alcohol']+df['eci_Drugs']+df['eci_Psychoses']+df['eci_Depression']"
   ]
  },
  {
   "cell_type": "code",
   "execution_count": 16,
   "metadata": {},
   "outputs": [
    {
     "name": "stderr",
     "output_type": "stream",
     "text": [
      "/opt/anaconda3/envs/tensorflow/lib/python3.7/site-packages/pandas/core/frame.py:3641: SettingWithCopyWarning: \n",
      "A value is trying to be set on a copy of a slice from a DataFrame.\n",
      "Try using .loc[row_indexer,col_indexer] = value instead\n",
      "\n",
      "See the caveats in the documentation: https://pandas.pydata.org/pandas-docs/stable/user_guide/indexing.html#returning-a-view-versus-a-copy\n",
      "  self[k1] = value[k2]\n"
     ]
    }
   ],
   "source": [
    "#create variables to aggregate chiefcom\n",
    "\n",
    "df[[\"chiefcom_chest_pain\", \"chiefcom_abdominal_pain\", \"chiefcom_headache\", \n",
    "            \"chiefcom_shortness_of_breath\", \"chiefcom_back_pain\", \"chiefcom_cough\", \n",
    "            \"chiefcom_nausea_vomiting\", \"chiefcom_fever_chills\", \"chiefcom_syncope\",\n",
    "            \"chiefcom_dizziness\"]] = df[[\"chiefcom_chest_pain\", \"chiefcom_abdominal_pain\", \"chiefcom_headache\", \n",
    "            \"chiefcom_shortness_of_breath\", \"chiefcom_back_pain\", \"chiefcom_cough\", \n",
    "            \"chiefcom_nausea_vomiting\", \"chiefcom_fever_chills\", \"chiefcom_syncope\",\n",
    "            \"chiefcom_dizziness\"]].astype(int)\n"
   ]
  },
  {
   "cell_type": "code",
   "execution_count": 17,
   "metadata": {},
   "outputs": [
    {
     "name": "stderr",
     "output_type": "stream",
     "text": [
      "/opt/anaconda3/envs/tensorflow/lib/python3.7/site-packages/ipykernel_launcher.py:1: SettingWithCopyWarning: \n",
      "A value is trying to be set on a copy of a slice from a DataFrame.\n",
      "Try using .loc[row_indexer,col_indexer] = value instead\n",
      "\n",
      "See the caveats in the documentation: https://pandas.pydata.org/pandas-docs/stable/user_guide/indexing.html#returning-a-view-versus-a-copy\n",
      "  \"\"\"Entry point for launching an IPython kernel.\n"
     ]
    }
   ],
   "source": [
    "df['sum_chiefcom']=df['chiefcom_chest_pain']+ df[\"chiefcom_abdominal_pain\"]+ df[\"chiefcom_headache\"]+ df[\"chiefcom_shortness_of_breath\"]+ df[\"chiefcom_back_pain\"]+ df[\"chiefcom_cough\"]+ df[\"chiefcom_nausea_vomiting\"]+ df[\"chiefcom_fever_chills\"]+ df[\"chiefcom_syncope\"]+df[\"chiefcom_dizziness\"]"
   ]
  },
  {
   "cell_type": "code",
   "execution_count": 18,
   "metadata": {},
   "outputs": [
    {
     "data": {
      "text/plain": [
       "count    417172.000000\n",
       "mean          0.395130\n",
       "std           0.570093\n",
       "min           0.000000\n",
       "25%           0.000000\n",
       "50%           0.000000\n",
       "75%           1.000000\n",
       "max           4.000000\n",
       "Name: sum_chiefcom, dtype: float64"
      ]
     },
     "execution_count": 18,
     "metadata": {},
     "output_type": "execute_result"
    }
   ],
   "source": [
    "df['sum_chiefcom'].describe()"
   ]
  },
  {
   "cell_type": "markdown",
   "metadata": {},
   "source": [
    "# Model split"
   ]
  },
  {
   "cell_type": "code",
   "execution_count": 19,
   "metadata": {},
   "outputs": [
    {
     "name": "stdout",
     "output_type": "stream",
     "text": [
      "No. of training examples: 333737\n",
      "No. of test examples: 83435\n"
     ]
    }
   ],
   "source": [
    "from sklearn.model_selection import train_test_split\n",
    "# split into test and train set\n",
    "df_train, df_test = train_test_split(df, test_size=0.2, random_state=25)\n",
    "print(f\"No. of training examples: {df_train.shape[0]}\")\n",
    "print(f\"No. of test examples: {df_test.shape[0]}\")"
   ]
  },
  {
   "cell_type": "code",
   "execution_count": 20,
   "metadata": {},
   "outputs": [],
   "source": [
    "df_train.to_csv('train.csv')\n",
    "df_test.to_csv('test.csv')"
   ]
  },
  {
   "cell_type": "code",
   "execution_count": 21,
   "metadata": {},
   "outputs": [
    {
     "name": "stdout",
     "output_type": "stream",
     "text": [
      "No. of training examples: 333710\n",
      "No. of test examples: 83430\n"
     ]
    }
   ],
   "source": [
    "# exclude ED death cases for train and test\n",
    "df_train = df_train[(df_train['before_ed_mortality'] == False) & (df_train['ed_death'] == False)].reset_index()\n",
    "df_test = df_test[(df_test['before_ed_mortality'] == False) & (df_test['ed_death'] == False)].reset_index()\n",
    "print(f\"No. of training examples: {df_train.shape[0]}\")\n",
    "print(f\"No. of test examples: {df_test.shape[0]}\")"
   ]
  },
  {
   "cell_type": "markdown",
   "metadata": {},
   "source": [
    "### 2. Variable Selection"
   ]
  },
  {
   "cell_type": "code",
   "execution_count": 22,
   "metadata": {},
   "outputs": [],
   "source": [
    "variable = [\"triage_MAP\",\"age\", \"gender\", \"score_CCI\",\"n_ed_30d\",\"intime_ed_hour\",\n",
    "\n",
    "            \"triage_pain_recoded\", \"triage_acuity\",\"icu_los\",\"hos_los\",\"ed_los\",\n",
    "            \n",
    "            'sum_chiefcom',\n",
    "            \n",
    "            \"sum_eci\",\n",
    "            \n",
    "            \"ed_temperature_last_recoded\", \"ed_heartrate_last_recoded\", \"ed_resprate_last_recoded\", \n",
    "            \"ed_o2sat_last_recoded\", \"n_med\", \"n_medrecon\"]\n",
    "\n",
    "outcome = \"outcome_ed_revisit_3d\""
   ]
  },
  {
   "cell_type": "code",
   "execution_count": 23,
   "metadata": {},
   "outputs": [
    {
     "data": {
      "text/plain": [
       "triage_MAP                     0\n",
       "age                            0\n",
       "gender                         0\n",
       "score_CCI                      0\n",
       "n_ed_30d                       0\n",
       "intime_ed_hour                 0\n",
       "triage_pain_recoded            0\n",
       "triage_acuity                  0\n",
       "icu_los                        0\n",
       "hos_los                        0\n",
       "ed_los                         0\n",
       "sum_chiefcom                   0\n",
       "sum_eci                        0\n",
       "ed_temperature_last_recoded    0\n",
       "ed_heartrate_last_recoded      0\n",
       "ed_resprate_last_recoded       0\n",
       "ed_o2sat_last_recoded          0\n",
       "n_med                          0\n",
       "n_medrecon                     0\n",
       "dtype: int64"
      ]
     },
     "execution_count": 23,
     "metadata": {},
     "output_type": "execute_result"
    }
   ],
   "source": [
    "#Check datatypes of the variables\n",
    "df[variable].isnull().sum()"
   ]
  },
  {
   "cell_type": "code",
   "execution_count": 24,
   "metadata": {},
   "outputs": [],
   "source": [
    "X_train = df_train[variable].copy()\n",
    "y_train = df_train[outcome].copy()\n",
    "X_test = df_test[variable].copy()\n",
    "y_test = df_test[outcome].copy()"
   ]
  },
  {
   "cell_type": "code",
   "execution_count": 25,
   "metadata": {},
   "outputs": [
    {
     "data": {
      "text/html": [
       "<div>\n",
       "<style scoped>\n",
       "    .dataframe tbody tr th:only-of-type {\n",
       "        vertical-align: middle;\n",
       "    }\n",
       "\n",
       "    .dataframe tbody tr th {\n",
       "        vertical-align: top;\n",
       "    }\n",
       "\n",
       "    .dataframe thead th {\n",
       "        text-align: right;\n",
       "    }\n",
       "</style>\n",
       "<table border=\"1\" class=\"dataframe\">\n",
       "  <thead>\n",
       "    <tr style=\"text-align: right;\">\n",
       "      <th></th>\n",
       "      <th>triage_MAP</th>\n",
       "      <th>age</th>\n",
       "      <th>gender</th>\n",
       "      <th>score_CCI</th>\n",
       "      <th>n_ed_30d</th>\n",
       "      <th>intime_ed_hour</th>\n",
       "      <th>triage_pain_recoded</th>\n",
       "      <th>triage_acuity</th>\n",
       "      <th>icu_los</th>\n",
       "      <th>hos_los</th>\n",
       "      <th>ed_los</th>\n",
       "      <th>sum_chiefcom</th>\n",
       "      <th>sum_eci</th>\n",
       "      <th>ed_temperature_last_recoded</th>\n",
       "      <th>ed_heartrate_last_recoded</th>\n",
       "      <th>ed_resprate_last_recoded</th>\n",
       "      <th>ed_o2sat_last_recoded</th>\n",
       "      <th>n_med</th>\n",
       "      <th>n_medrecon</th>\n",
       "    </tr>\n",
       "  </thead>\n",
       "  <tbody>\n",
       "    <tr>\n",
       "      <th>0</th>\n",
       "      <td>float64</td>\n",
       "      <td>float64</td>\n",
       "      <td>object</td>\n",
       "      <td>int64</td>\n",
       "      <td>int64</td>\n",
       "      <td>int64</td>\n",
       "      <td>float64</td>\n",
       "      <td>float64</td>\n",
       "      <td>float64</td>\n",
       "      <td>float64</td>\n",
       "      <td>int64</td>\n",
       "      <td>int64</td>\n",
       "      <td>int64</td>\n",
       "      <td>float64</td>\n",
       "      <td>float64</td>\n",
       "      <td>int64</td>\n",
       "      <td>float64</td>\n",
       "      <td>int64</td>\n",
       "      <td>int64</td>\n",
       "    </tr>\n",
       "  </tbody>\n",
       "</table>\n",
       "</div>"
      ],
      "text/plain": [
       "  triage_MAP      age  gender score_CCI n_ed_30d intime_ed_hour  \\\n",
       "0    float64  float64  object     int64    int64          int64   \n",
       "\n",
       "  triage_pain_recoded triage_acuity  icu_los  hos_los ed_los sum_chiefcom  \\\n",
       "0             float64       float64  float64  float64  int64        int64   \n",
       "\n",
       "  sum_eci ed_temperature_last_recoded ed_heartrate_last_recoded  \\\n",
       "0   int64                     float64                   float64   \n",
       "\n",
       "  ed_resprate_last_recoded ed_o2sat_last_recoded  n_med n_medrecon  \n",
       "0                    int64               float64  int64      int64  "
      ]
     },
     "execution_count": 25,
     "metadata": {},
     "output_type": "execute_result"
    }
   ],
   "source": [
    "X_train.dtypes.to_frame().T"
   ]
  },
  {
   "cell_type": "code",
   "execution_count": 26,
   "metadata": {},
   "outputs": [],
   "source": [
    "encoder = LabelEncoder()\n",
    "X_train['gender'] = encoder.fit_transform(X_train['gender'])\n",
    "X_test['gender'] = encoder.transform(X_test['gender'])"
   ]
  },
  {
   "cell_type": "code",
   "execution_count": 27,
   "metadata": {},
   "outputs": [],
   "source": [
    "X_train['ed_los'] = pd.to_timedelta(X_train['ed_los']).dt.seconds / 60\n",
    "X_test['ed_los'] = pd.to_timedelta(X_test['ed_los']).dt.seconds / 60"
   ]
  },
  {
   "cell_type": "code",
   "execution_count": 28,
   "metadata": {},
   "outputs": [
    {
     "name": "stdout",
     "output_type": "stream",
     "text": [
      "class ratio\n",
      "positive : negative = 0.030990580173567022 : 1\n"
     ]
    }
   ],
   "source": [
    "print('class ratio')\n",
    "ratio = y_train.sum()/(~y_train).sum()\n",
    "print('positive : negative =', ratio, ': 1')"
   ]
  },
  {
   "cell_type": "markdown",
   "metadata": {},
   "source": [
    "### 3.  Modeling script"
   ]
  },
  {
   "cell_type": "code",
   "execution_count": 29,
   "metadata": {},
   "outputs": [],
   "source": [
    "# Containers for all results\n",
    "result_list = []"
   ]
  },
  {
   "cell_type": "code",
   "execution_count": 30,
   "metadata": {},
   "outputs": [],
   "source": [
    "def get_score_performance(s, random_seed=0):\n",
    "    print(s)\n",
    "    score = np.array(df_test[s])\n",
    "    result = PlotROCCurve(score,y_test, ci=confidence_interval, random_seed=random_seed)\n",
    "    runtime = 0\n",
    "    results = [s]\n",
    "    results.extend(result)\n",
    "    results.append(runtime)\n",
    "    result_list.append(results)"
   ]
  },
  {
   "cell_type": "code",
   "execution_count": 31,
   "metadata": {},
   "outputs": [
    {
     "name": "stdout",
     "output_type": "stream",
     "text": [
      "triage_acuity\n",
      "AUC: 0.5584292979876886\n",
      "AUPRC: 0.03375982833209265\n",
      "Sensitivity: 0.7423510466988728\n",
      "Specificity: 0.3841326316309639\n",
      "Score thresold: 3.0\n",
      "2.5 97.5\n"
     ]
    },
    {
     "data": {
      "image/png": "[encoded data removed]",
      "text/plain": [
       "<Figure size 432x288 with 1 Axes>"
      ]
     },
     "metadata": {
      "needs_background": "light"
     },
     "output_type": "display_data"
    },
    {
     "data": {
      "image/png": "[encoded data removed]",
      "text/plain": [
       "<Figure size 432x288 with 1 Axes>"
      ]
     },
     "metadata": {
      "needs_background": "light"
     },
     "output_type": "display_data"
    }
   ],
   "source": [
    "get_score_performance(\"triage_acuity\", random_seed=random_seed)"
   ]
  },
  {
   "cell_type": "code",
   "execution_count": 32,
   "metadata": {},
   "outputs": [
    {
     "name": "stdout",
     "output_type": "stream",
     "text": [
      "Logistic Regression:\n"
     ]
    },
    {
     "name": "stderr",
     "output_type": "stream",
     "text": [
      "/opt/anaconda3/envs/tensorflow/lib/python3.7/site-packages/sklearn/linear_model/_logistic.py:818: ConvergenceWarning: lbfgs failed to converge (status=1):\n",
      "STOP: TOTAL NO. of ITERATIONS REACHED LIMIT.\n",
      "\n",
      "Increase the number of iterations (max_iter) or scale the data as shown in:\n",
      "    https://scikit-learn.org/stable/modules/preprocessing.html\n",
      "Please also refer to the documentation for alternative solver options:\n",
      "    https://scikit-learn.org/stable/modules/linear_model.html#logistic-regression\n",
      "  extra_warning_msg=_LOGISTIC_SOLVER_CONVERGENCE_MSG,\n"
     ]
    },
    {
     "name": "stdout",
     "output_type": "stream",
     "text": [
      "Training time: 3.6366078853607178 seconds\n",
      "AUC: 0.7445290757246448\n",
      "AUPRC: 0.09764252122639448\n",
      "Sensitivity: 0.6723027375201288\n",
      "Specificity: 0.670175178514071\n",
      "Score thresold: 0.03400584834717566\n",
      "2.5 97.5\n"
     ]
    },
    {
     "data": {
      "image/png": "[encoded data removed]",
      "text/plain": [
       "<Figure size 432x288 with 1 Axes>"
      ]
     },
     "metadata": {
      "needs_background": "light"
     },
     "output_type": "display_data"
    },
    {
     "data": {
      "image/png": "[encoded data removed]",
      "text/plain": [
       "<Figure size 432x288 with 1 Axes>"
      ]
     },
     "metadata": {
      "needs_background": "light"
     },
     "output_type": "display_data"
    }
   ],
   "source": [
    "print(\"Logistic Regression:\")\n",
    "from sklearn.linear_model import LogisticRegression\n",
    "logreg=LogisticRegression()\n",
    "start = time.time()\n",
    "logreg.fit(X_train,y_train)\n",
    "runtime = time.time()-start\n",
    "print('Training time:', runtime, 'seconds')\n",
    "probs = logreg.predict_proba(X_test)\n",
    "result = PlotROCCurve(probs[:,1],y_test, ci=confidence_interval, random_seed=random_seed)\n",
    "\n",
    "results = [\"LR\"]\n",
    "results.extend(result)\n",
    "results.append(runtime)\n",
    "result_list.append(results)"
   ]
  },
  {
   "cell_type": "code",
   "execution_count": 33,
   "metadata": {},
   "outputs": [
    {
     "name": "stdout",
     "output_type": "stream",
     "text": [
      "RandomForest:\n",
      "Training time: 82.16803097724915 seconds\n",
      "AUC: 0.7128612346403138\n",
      "AUPRC: 0.08429700516642545\n",
      "Sensitivity: 0.6517713365539453\n",
      "Specificity: 0.650087712796185\n",
      "Score thresold: 0.034\n",
      "2.5 97.5\n"
     ]
    },
    {
     "data": {
      "image/png": "[encoded data removed]",
      "text/plain": [
       "<Figure size 432x288 with 1 Axes>"
      ]
     },
     "metadata": {
      "needs_background": "light"
     },
     "output_type": "display_data"
    },
    {
     "data": {
      "image/png": "[encoded data removed]",
      "text/plain": [
       "<Figure size 432x288 with 1 Axes>"
      ]
     },
     "metadata": {
      "needs_background": "light"
     },
     "output_type": "display_data"
    },
    {
     "name": "stdout",
     "output_type": "stream",
     "text": [
      "[0.12161988 0.11392577 0.01727056 0.0262861  0.02672837 0.09115479\n",
      " 0.04964217 0.02444669 0.00232128 0.04900254 0.         0.0250639\n",
      " 0.03838782 0.08885499 0.10182332 0.04830719 0.05092819 0.05674883\n",
      " 0.06748762]\n"
     ]
    }
   ],
   "source": [
    "print(\"RandomForest:\")\n",
    "from sklearn.ensemble import RandomForestClassifier\n",
    "rf= RandomForestClassifier()\n",
    "start = time.time()\n",
    "rf.fit(X_train,y_train)\n",
    "runtime = time.time()-start\n",
    "print('Training time:', runtime, 'seconds')\n",
    "probs = rf.predict_proba(X_test)\n",
    "result = PlotROCCurve(probs[:,1],y_test, ci=confidence_interval, random_seed=random_seed)\n",
    "importances = rf.feature_importances_\n",
    "print(importances)\n",
    "\n",
    "results = [\"RF\"]\n",
    "results.extend(result)\n",
    "results.append(runtime)\n",
    "result_list.append(results)"
   ]
  },
  {
   "cell_type": "code",
   "execution_count": 34,
   "metadata": {},
   "outputs": [
    {
     "name": "stdout",
     "output_type": "stream",
     "text": [
      "GradientBoosting:\n",
      "Training time: 81.11968326568604 seconds\n",
      "AUC: 0.7552786478236242\n",
      "AUPRC: 0.10671681915705424\n",
      "Sensitivity: 0.6839774557165862\n",
      "Specificity: 0.6692733427223088\n",
      "Score thresold: 0.0318598855858979\n",
      "2.5 97.5\n"
     ]
    },
    {
     "data": {
      "image/png": "[encoded data removed]",
      "text/plain": [
       "<Figure size 432x288 with 1 Axes>"
      ]
     },
     "metadata": {
      "needs_background": "light"
     },
     "output_type": "display_data"
    },
    {
     "data": {
      "image/png": "[encoded data removed]",
      "text/plain": [
       "<Figure size 432x288 with 1 Axes>"
      ]
     },
     "metadata": {
      "needs_background": "light"
     },
     "output_type": "display_data"
    }
   ],
   "source": [
    "print(\"GradientBoosting:\")\n",
    "from sklearn.ensemble import GradientBoostingClassifier\n",
    "gb = GradientBoostingClassifier()\n",
    "start = time.time()\n",
    "gb.fit(X_train, y_train)\n",
    "runtime = time.time()-start\n",
    "print('Training time:', runtime, 'seconds')\n",
    "probs = gb.predict_proba(X_test)\n",
    "result = PlotROCCurve(probs[:,1],y_test, ci=confidence_interval, random_seed=random_seed)\n",
    "\n",
    "results = [\"GB\"]\n",
    "results.extend(result)\n",
    "results.append(runtime)\n",
    "result_list.append(results)"
   ]
  },
  {
   "cell_type": "code",
   "execution_count": 35,
   "metadata": {},
   "outputs": [
    {
     "name": "stdout",
     "output_type": "stream",
     "text": [
      "score_NEWS\n",
      "AUC: 0.49945157370773374\n",
      "AUPRC: 0.029163779696598776\n",
      "Sensitivity: 0.4883252818035427\n",
      "Specificity: 0.5219034912163665\n",
      "Score thresold: 3\n",
      "2.5 97.5\n"
     ]
    },
    {
     "data": {
      "image/png": "[encoded data removed]",
      "text/plain": [
       "<Figure size 432x288 with 1 Axes>"
      ]
     },
     "metadata": {
      "needs_background": "light"
     },
     "output_type": "display_data"
    },
    {
     "data": {
      "image/png": "[encoded data removed]",
      "text/plain": [
       "<Figure size 432x288 with 1 Axes>"
      ]
     },
     "metadata": {
      "needs_background": "light"
     },
     "output_type": "display_data"
    }
   ],
   "source": [
    "get_score_performance(\"score_NEWS\", random_seed=random_seed)"
   ]
  },
  {
   "cell_type": "code",
   "execution_count": 36,
   "metadata": {},
   "outputs": [
    {
     "name": "stdout",
     "output_type": "stream",
     "text": [
      "score_NEWS2\n",
      "AUC: 0.5036641691864874\n",
      "AUPRC: 0.029460294532582983\n",
      "Sensitivity: 0.4573268921095008\n",
      "Specificity: 0.5605959528574606\n",
      "Score thresold: 3\n",
      "2.5 97.5\n"
     ]
    },
    {
     "data": {
      "image/png": "[encoded data removed]",
      "text/plain": [
       "<Figure size 432x288 with 1 Axes>"
      ]
     },
     "metadata": {
      "needs_background": "light"
     },
     "output_type": "display_data"
    },
    {
     "data": {
      "image/png": "[encoded data removed]",
      "text/plain": [
       "<Figure size 432x288 with 1 Axes>"
      ]
     },
     "metadata": {
      "needs_background": "light"
     },
     "output_type": "display_data"
    }
   ],
   "source": [
    "get_score_performance(\"score_NEWS2\", random_seed=random_seed)"
   ]
  },
  {
   "cell_type": "code",
   "execution_count": 37,
   "metadata": {},
   "outputs": [
    {
     "name": "stdout",
     "output_type": "stream",
     "text": [
      "score_REMS\n",
      "AUC: 0.45290763960530656\n",
      "AUPRC: 0.02647701584628532\n",
      "Sensitivity: 0.4758454106280193\n",
      "Specificity: 0.4459639759839893\n",
      "Score thresold: 3\n",
      "2.5 97.5\n"
     ]
    },
    {
     "data": {
      "image/png": "[encoded data removed]",
      "text/plain": [
       "<Figure size 432x288 with 1 Axes>"
      ]
     },
     "metadata": {
      "needs_background": "light"
     },
     "output_type": "display_data"
    },
    {
     "data": {
      "image/png": "[encoded data removed]",
      "text/plain": [
       "<Figure size 432x288 with 1 Axes>"
      ]
     },
     "metadata": {
      "needs_background": "light"
     },
     "output_type": "display_data"
    }
   ],
   "source": [
    "get_score_performance(\"score_REMS\", random_seed=random_seed)"
   ]
  },
  {
   "cell_type": "code",
   "execution_count": 38,
   "metadata": {},
   "outputs": [
    {
     "name": "stdout",
     "output_type": "stream",
     "text": [
      "score_MEWS\n",
      "AUC: 0.5074124559013975\n",
      "AUPRC: 0.03006588242863243\n",
      "Sensitivity: 0.24798711755233493\n",
      "Specificity: 0.760605835989425\n",
      "Score thresold: 4\n",
      "2.5 97.5\n"
     ]
    },
    {
     "data": {
      "image/png": "[encoded data removed]",
      "text/plain": [
       "<Figure size 432x288 with 1 Axes>"
      ]
     },
     "metadata": {
      "needs_background": "light"
     },
     "output_type": "display_data"
    },
    {
     "data": {
      "image/png": "[encoded data removed]",
      "text/plain": [
       "<Figure size 432x288 with 1 Axes>"
      ]
     },
     "metadata": {
      "needs_background": "light"
     },
     "output_type": "display_data"
    }
   ],
   "source": [
    "get_score_performance(\"score_MEWS\", random_seed=random_seed)"
   ]
  },
  {
   "cell_type": "code",
   "execution_count": 39,
   "metadata": {},
   "outputs": [],
   "source": [
    "class MLP(tf.keras.Model):\n",
    "    def __init__(self):\n",
    "        super(MLP, self).__init__()\n",
    "        self.dense_1 = Dense(128, activation='relu')\n",
    "        self.dense_2 = Dense(64, activation='relu')\n",
    "        self.classifier = Dense(1, activation='sigmoid')\n",
    "\n",
    "    def call(self, x):\n",
    "        x = self.dense_1(x)\n",
    "        x = self.dense_2(x)\n",
    "        return self.classifier(x)"
   ]
  },
  {
   "cell_type": "markdown",
   "metadata": {},
   "source": [
    "### 4. Performance output"
   ]
  },
  {
   "cell_type": "code",
   "execution_count": 40,
   "metadata": {},
   "outputs": [
    {
     "data": {
      "text/html": [
       "<div>\n",
       "<style scoped>\n",
       "    .dataframe tbody tr th:only-of-type {\n",
       "        vertical-align: middle;\n",
       "    }\n",
       "\n",
       "    .dataframe tbody tr th {\n",
       "        vertical-align: top;\n",
       "    }\n",
       "\n",
       "    .dataframe thead th {\n",
       "        text-align: right;\n",
       "    }\n",
       "</style>\n",
       "<table border=\"1\" class=\"dataframe\">\n",
       "  <thead>\n",
       "    <tr style=\"text-align: right;\">\n",
       "      <th></th>\n",
       "      <th>Model</th>\n",
       "      <th>Threshold</th>\n",
       "      <th>AUROC</th>\n",
       "      <th>AUPRC</th>\n",
       "      <th>Sensitivity</th>\n",
       "      <th>Specificity</th>\n",
       "      <th>Runtime</th>\n",
       "    </tr>\n",
       "  </thead>\n",
       "  <tbody>\n",
       "    <tr>\n",
       "      <th>0</th>\n",
       "      <td>triage_acuity</td>\n",
       "      <td>3.000</td>\n",
       "      <td>0.558 (0.549-0.564)</td>\n",
       "      <td>0.034 (0.033-0.035)</td>\n",
       "      <td>0.742 (0.728-0.756)</td>\n",
       "      <td>0.384 (0.381-0.387)</td>\n",
       "      <td>0.000</td>\n",
       "    </tr>\n",
       "    <tr>\n",
       "      <th>1</th>\n",
       "      <td>LR</td>\n",
       "      <td>0.034</td>\n",
       "      <td>0.745 (0.739-0.755)</td>\n",
       "      <td>0.098 (0.092-0.108)</td>\n",
       "      <td>0.672 (0.664-0.697)</td>\n",
       "      <td>0.67 (0.659-0.679)</td>\n",
       "      <td>3.637</td>\n",
       "    </tr>\n",
       "    <tr>\n",
       "      <th>2</th>\n",
       "      <td>RF</td>\n",
       "      <td>0.034</td>\n",
       "      <td>0.713 (0.708-0.721)</td>\n",
       "      <td>0.084 (0.08-0.094)</td>\n",
       "      <td>0.652 (0.639-0.669)</td>\n",
       "      <td>0.65 (0.647-0.653)</td>\n",
       "      <td>82.168</td>\n",
       "    </tr>\n",
       "    <tr>\n",
       "      <th>3</th>\n",
       "      <td>GB</td>\n",
       "      <td>0.032</td>\n",
       "      <td>0.755 (0.749-0.765)</td>\n",
       "      <td>0.107 (0.1-0.118)</td>\n",
       "      <td>0.684 (0.633-0.704)</td>\n",
       "      <td>0.669 (0.656-0.723)</td>\n",
       "      <td>81.120</td>\n",
       "    </tr>\n",
       "    <tr>\n",
       "      <th>4</th>\n",
       "      <td>score_NEWS</td>\n",
       "      <td>3.000</td>\n",
       "      <td>0.499 (0.489-0.505)</td>\n",
       "      <td>0.029 (0.028-0.03)</td>\n",
       "      <td>0.488 (0.469-0.498)</td>\n",
       "      <td>0.522 (0.52-0.523)</td>\n",
       "      <td>0.000</td>\n",
       "    </tr>\n",
       "    <tr>\n",
       "      <th>5</th>\n",
       "      <td>score_NEWS2</td>\n",
       "      <td>3.000</td>\n",
       "      <td>0.504 (0.493-0.509)</td>\n",
       "      <td>0.029 (0.028-0.03)</td>\n",
       "      <td>0.457 (0.437-0.466)</td>\n",
       "      <td>0.561 (0.558-0.562)</td>\n",
       "      <td>0.000</td>\n",
       "    </tr>\n",
       "    <tr>\n",
       "      <th>6</th>\n",
       "      <td>score_REMS</td>\n",
       "      <td>3.000</td>\n",
       "      <td>0.453 (0.444-0.46)</td>\n",
       "      <td>0.026 (0.025-0.027)</td>\n",
       "      <td>0.476 (0.458-0.483)</td>\n",
       "      <td>0.446 (0.443-0.449)</td>\n",
       "      <td>0.000</td>\n",
       "    </tr>\n",
       "    <tr>\n",
       "      <th>7</th>\n",
       "      <td>score_MEWS</td>\n",
       "      <td>4.000</td>\n",
       "      <td>0.507 (0.499-0.511)</td>\n",
       "      <td>0.03 (0.029-0.031)</td>\n",
       "      <td>0.248 (0.233-0.256)</td>\n",
       "      <td>0.761 (0.758-0.762)</td>\n",
       "      <td>0.000</td>\n",
       "    </tr>\n",
       "  </tbody>\n",
       "</table>\n",
       "</div>"
      ],
      "text/plain": [
       "           Model  Threshold                AUROC                AUPRC  \\\n",
       "0  triage_acuity      3.000  0.558 (0.549-0.564)  0.034 (0.033-0.035)   \n",
       "1             LR      0.034  0.745 (0.739-0.755)  0.098 (0.092-0.108)   \n",
       "2             RF      0.034  0.713 (0.708-0.721)   0.084 (0.08-0.094)   \n",
       "3             GB      0.032  0.755 (0.749-0.765)    0.107 (0.1-0.118)   \n",
       "4     score_NEWS      3.000  0.499 (0.489-0.505)   0.029 (0.028-0.03)   \n",
       "5    score_NEWS2      3.000  0.504 (0.493-0.509)   0.029 (0.028-0.03)   \n",
       "6     score_REMS      3.000   0.453 (0.444-0.46)  0.026 (0.025-0.027)   \n",
       "7     score_MEWS      4.000  0.507 (0.499-0.511)   0.03 (0.029-0.031)   \n",
       "\n",
       "           Sensitivity          Specificity  Runtime  \n",
       "0  0.742 (0.728-0.756)  0.384 (0.381-0.387)    0.000  \n",
       "1  0.672 (0.664-0.697)   0.67 (0.659-0.679)    3.637  \n",
       "2  0.652 (0.639-0.669)   0.65 (0.647-0.653)   82.168  \n",
       "3  0.684 (0.633-0.704)  0.669 (0.656-0.723)   81.120  \n",
       "4  0.488 (0.469-0.498)   0.522 (0.52-0.523)    0.000  \n",
       "5  0.457 (0.437-0.466)  0.561 (0.558-0.562)    0.000  \n",
       "6  0.476 (0.458-0.483)  0.446 (0.443-0.449)    0.000  \n",
       "7  0.248 (0.233-0.256)  0.761 (0.758-0.762)    0.000  "
      ]
     },
     "execution_count": 40,
     "metadata": {},
     "output_type": "execute_result"
    }
   ],
   "source": [
    "#result_df = pd.read_csv(os.path.join(path, 'result_72h_ed_revivist_disposition.csv'))\n",
    "result_df = pd.DataFrame(result_list, columns=['Model', 'auroc', 'ap', 'sensitivity', 'specificity', 'threshold', 'lower_auroc', 'upper_auroc', 'std_auroc', 'lower_ap', 'upper_ap', 'std_ap', 'lower_sensitivity', 'upper_sensitivity', 'std_sensitivity', 'lower_specificity', 'upper_specificity', 'std_specificity', 'runtime'])\n",
    "result_df.to_csv('result_72h_ed_revivist_disposition.csv')\n",
    "result_df = result_df.round(3)\n",
    "formatted_result_df = pd.DataFrame()\n",
    "formatted_result_df[['Model', 'Threshold']] = result_df[['Model', 'threshold']]\n",
    "formatted_result_df['AUROC'] = result_df['auroc'].astype(str) + ' (' + result_df['lower_auroc'].astype(str) + \\\n",
    "                               '-' + result_df['upper_auroc'].astype(str) + ')'\n",
    "formatted_result_df['AUPRC'] = result_df['ap'].astype(str) + ' (' + result_df['lower_ap'].astype(str) + \\\n",
    "                               '-' + result_df['upper_ap'].astype(str) + ')'\n",
    "formatted_result_df['Sensitivity'] = result_df['sensitivity'].astype(str) + ' (' + result_df['lower_sensitivity'].astype(str) + \\\n",
    "                                     '-' + result_df['upper_sensitivity'].astype(str) + ')'\n",
    "formatted_result_df['Specificity'] = result_df['specificity'].astype(str) + ' (' + result_df['lower_specificity'].astype(str) + \\\n",
    "                                     '-' + result_df['upper_specificity'].astype(str) + ')'\n",
    "formatted_result_df[['Runtime']] = result_df[['runtime']]\n",
    "formatted_result_df.to_csv('task3.csv')\n",
    "formatted_result_df"
   ]
  },
  {
   "cell_type": "code",
   "execution_count": 41,
   "metadata": {},
   "outputs": [
    {
     "data": {
      "text/html": [
       "<div>\n",
       "<style scoped>\n",
       "    .dataframe tbody tr th:only-of-type {\n",
       "        vertical-align: middle;\n",
       "    }\n",
       "\n",
       "    .dataframe tbody tr th {\n",
       "        vertical-align: top;\n",
       "    }\n",
       "\n",
       "    .dataframe thead th {\n",
       "        text-align: right;\n",
       "    }\n",
       "</style>\n",
       "<table border=\"1\" class=\"dataframe\">\n",
       "  <thead>\n",
       "    <tr style=\"text-align: right;\">\n",
       "      <th></th>\n",
       "      <th>Variable</th>\n",
       "      <th>Importance</th>\n",
       "    </tr>\n",
       "  </thead>\n",
       "  <tbody>\n",
       "    <tr>\n",
       "      <th>0</th>\n",
       "      <td>triage_MAP</td>\n",
       "      <td>0.121620</td>\n",
       "    </tr>\n",
       "    <tr>\n",
       "      <th>1</th>\n",
       "      <td>age</td>\n",
       "      <td>0.113926</td>\n",
       "    </tr>\n",
       "    <tr>\n",
       "      <th>14</th>\n",
       "      <td>ed_heartrate_last_recoded</td>\n",
       "      <td>0.101823</td>\n",
       "    </tr>\n",
       "    <tr>\n",
       "      <th>5</th>\n",
       "      <td>intime_ed_hour</td>\n",
       "      <td>0.091155</td>\n",
       "    </tr>\n",
       "    <tr>\n",
       "      <th>13</th>\n",
       "      <td>ed_temperature_last_recoded</td>\n",
       "      <td>0.088855</td>\n",
       "    </tr>\n",
       "    <tr>\n",
       "      <th>18</th>\n",
       "      <td>n_medrecon</td>\n",
       "      <td>0.067488</td>\n",
       "    </tr>\n",
       "    <tr>\n",
       "      <th>17</th>\n",
       "      <td>n_med</td>\n",
       "      <td>0.056749</td>\n",
       "    </tr>\n",
       "    <tr>\n",
       "      <th>16</th>\n",
       "      <td>ed_o2sat_last_recoded</td>\n",
       "      <td>0.050928</td>\n",
       "    </tr>\n",
       "    <tr>\n",
       "      <th>6</th>\n",
       "      <td>triage_pain_recoded</td>\n",
       "      <td>0.049642</td>\n",
       "    </tr>\n",
       "    <tr>\n",
       "      <th>9</th>\n",
       "      <td>hos_los</td>\n",
       "      <td>0.049003</td>\n",
       "    </tr>\n",
       "    <tr>\n",
       "      <th>15</th>\n",
       "      <td>ed_resprate_last_recoded</td>\n",
       "      <td>0.048307</td>\n",
       "    </tr>\n",
       "    <tr>\n",
       "      <th>12</th>\n",
       "      <td>sum_eci</td>\n",
       "      <td>0.038388</td>\n",
       "    </tr>\n",
       "    <tr>\n",
       "      <th>4</th>\n",
       "      <td>n_ed_30d</td>\n",
       "      <td>0.026728</td>\n",
       "    </tr>\n",
       "    <tr>\n",
       "      <th>3</th>\n",
       "      <td>score_CCI</td>\n",
       "      <td>0.026286</td>\n",
       "    </tr>\n",
       "    <tr>\n",
       "      <th>11</th>\n",
       "      <td>sum_chiefcom</td>\n",
       "      <td>0.025064</td>\n",
       "    </tr>\n",
       "    <tr>\n",
       "      <th>7</th>\n",
       "      <td>triage_acuity</td>\n",
       "      <td>0.024447</td>\n",
       "    </tr>\n",
       "    <tr>\n",
       "      <th>2</th>\n",
       "      <td>gender</td>\n",
       "      <td>0.017271</td>\n",
       "    </tr>\n",
       "    <tr>\n",
       "      <th>8</th>\n",
       "      <td>icu_los</td>\n",
       "      <td>0.002321</td>\n",
       "    </tr>\n",
       "    <tr>\n",
       "      <th>10</th>\n",
       "      <td>ed_los</td>\n",
       "      <td>0.000000</td>\n",
       "    </tr>\n",
       "  </tbody>\n",
       "</table>\n",
       "</div>"
      ],
      "text/plain": [
       "                       Variable  Importance\n",
       "0                    triage_MAP    0.121620\n",
       "1                           age    0.113926\n",
       "14    ed_heartrate_last_recoded    0.101823\n",
       "5                intime_ed_hour    0.091155\n",
       "13  ed_temperature_last_recoded    0.088855\n",
       "18                   n_medrecon    0.067488\n",
       "17                        n_med    0.056749\n",
       "16        ed_o2sat_last_recoded    0.050928\n",
       "6           triage_pain_recoded    0.049642\n",
       "9                       hos_los    0.049003\n",
       "15     ed_resprate_last_recoded    0.048307\n",
       "12                      sum_eci    0.038388\n",
       "4                      n_ed_30d    0.026728\n",
       "3                     score_CCI    0.026286\n",
       "11                 sum_chiefcom    0.025064\n",
       "7                 triage_acuity    0.024447\n",
       "2                        gender    0.017271\n",
       "8                       icu_los    0.002321\n",
       "10                       ed_los    0.000000"
      ]
     },
     "execution_count": 41,
     "metadata": {},
     "output_type": "execute_result"
    }
   ],
   "source": [
    "importance_df = pd.DataFrame(zip(variable, importances), columns=['Variable','Importance'])\n",
    "importance_df.to_csv('importances_72h_ed_revisit_disposition.csv')\n",
    "importance_df.sort_values(by='Importance', axis=0,ascending=False)"
   ]
  },
  {
   "cell_type": "code",
   "execution_count": null,
   "metadata": {},
   "outputs": [],
   "source": []
  },
  {
   "cell_type": "code",
   "execution_count": 42,
   "metadata": {},
   "outputs": [
    {
     "name": "stdout",
     "output_type": "stream",
     "text": [
      "WARNING:tensorflow:Falling back from v2 loop because of error: Failed to find data adapter that can handle input: <class 'pandas.core.frame.DataFrame'>, <class 'NoneType'>\n"
     ]
    },
    {
     "ename": "ValueError",
     "evalue": "Please provide as model inputs either a single array or a list of arrays. You passed: inputs=        triage_MAP   age  gender  score_CCI  n_ed_30d  intime_ed_hour  \\\n0        86.666667  27.0       0          3         0               9   \n1        62.333333  53.0       1          3         0              18   \n2        90.333333  74.0       1          0         0              14   \n3        83.333333  58.0       1          2         0               8   \n4       128.000000  82.0       1          0         0              11   \n...            ...   ...     ...        ...       ...             ...   \n333705  101.000000  52.0       0          0         0              14   \n333706   96.000000  59.0       1          7         1              19   \n333707   81.333333  38.0       0          0         0              11   \n333708   92.000000  36.0       0          0         0              16   \n333709   73.666667  46.0       0          0         0              22   \n\n        triage_pain_recoded  triage_acuity  icu_los  hos_los  ed_los  \\\n0                       7.0            3.0     -1.0     -1.0     0.0   \n1                       0.0            2.0     -1.0    212.0     0.0   \n2                       0.0            2.0    149.0    308.0     0.0   \n3                       6.0            3.0     -1.0     17.0     0.0   \n4                       0.0            1.0     -1.0     20.0     0.0   \n...                     ...            ...      ...      ...     ...   \n333705                  0.0            2.0     -1.0     64.0     0.0   \n333706                  0.0            2.0     -1.0    157.0     0.0   \n333707                  7.0            3.0     -1.0     -1.0     0.0   \n333708                 10.0            2.0     -1.0     91.0     0.0   \n333709                  7.0            2.0     -1.0     37.0     0.0   \n\n        sum_chiefcom  sum_eci  ed_temperature_last_recoded  \\\n0                  0        2                         98.5   \n1                  0        6                         99.4   \n2                  0        0                         97.6   \n3                  0        3                         98.0   \n4                  0        0                         98.2   \n...              ...      ...                          ...   \n333705             0        0                         98.9   \n333706             1       11                         97.6   \n333707             1        1                         98.3   \n333708             1        1                         98.1   \n333709             1        0                         98.1   \n\n        ed_heartrate_last_recoded  ed_resprate_last_recoded  \\\n0                            82.0                        14   \n1                            88.0                        26   \n2                            93.0                        16   \n3                            70.0                        16   \n4                            98.0                        19   \n...                           ...                       ...   \n333705                       89.0                        18   \n333706                       85.0                        20   \n333707                       78.0                        18   \n333708                       78.0                        17   \n333709                       58.0                        14   \n\n        ed_o2sat_last_recoded  n_med  n_medrecon  \n0                        99.0      0           7  \n1                        99.0      2          22  \n2                        92.0      1          13  \n3                        99.0      3           1  \n4                        98.0      8           4  \n...                       ...    ...         ...  \n333705                   95.0      0           2  \n333706                   99.0      3          15  \n333707                  100.0      2           1  \n333708                   98.0      0           0  \n333709                   95.0     11           2  \n\n[333710 rows x 19 columns]",
     "output_type": "error",
     "traceback": [
      "\u001b[0;31m---------------------------------------------------------------------------\u001b[0m",
      "\u001b[0;31mValueError\u001b[0m                                Traceback (most recent call last)",
      "\u001b[0;32m/var/folders/bw/0hdv2f452s5f76m1_9_krzt40000gn/T/ipykernel_6325/2386300505.py\u001b[0m in \u001b[0;36m<module>\u001b[0;34m\u001b[0m\n\u001b[1;32m      5\u001b[0m                        'TruePositives', 'TrueNegatives', 'Precision', 'Recall'])\n\u001b[1;32m      6\u001b[0m \u001b[0mstart\u001b[0m \u001b[0;34m=\u001b[0m \u001b[0mtime\u001b[0m\u001b[0;34m.\u001b[0m\u001b[0mtime\u001b[0m\u001b[0;34m(\u001b[0m\u001b[0;34m)\u001b[0m\u001b[0;34m\u001b[0m\u001b[0;34m\u001b[0m\u001b[0m\n\u001b[0;32m----> 7\u001b[0;31m \u001b[0mmlp\u001b[0m\u001b[0;34m.\u001b[0m\u001b[0mfit\u001b[0m\u001b[0;34m(\u001b[0m\u001b[0mX_train\u001b[0m\u001b[0;34m,\u001b[0m \u001b[0my_train\u001b[0m\u001b[0;34m,\u001b[0m \u001b[0mbatch_size\u001b[0m\u001b[0;34m=\u001b[0m\u001b[0;36m200\u001b[0m\u001b[0;34m,\u001b[0m \u001b[0mepochs\u001b[0m\u001b[0;34m=\u001b[0m\u001b[0;36m20\u001b[0m\u001b[0;34m)\u001b[0m\u001b[0;34m\u001b[0m\u001b[0;34m\u001b[0m\u001b[0m\n\u001b[0m\u001b[1;32m      8\u001b[0m \u001b[0mruntime\u001b[0m \u001b[0;34m=\u001b[0m \u001b[0mtime\u001b[0m\u001b[0;34m.\u001b[0m\u001b[0mtime\u001b[0m\u001b[0;34m(\u001b[0m\u001b[0;34m)\u001b[0m \u001b[0;34m-\u001b[0m \u001b[0mstart\u001b[0m\u001b[0;34m\u001b[0m\u001b[0;34m\u001b[0m\u001b[0m\n\u001b[1;32m      9\u001b[0m \u001b[0mprint\u001b[0m\u001b[0;34m(\u001b[0m\u001b[0;34m'Training time:'\u001b[0m\u001b[0;34m,\u001b[0m \u001b[0mruntime\u001b[0m\u001b[0;34m,\u001b[0m \u001b[0;34m'seconds'\u001b[0m\u001b[0;34m)\u001b[0m\u001b[0;34m\u001b[0m\u001b[0;34m\u001b[0m\u001b[0m\n",
      "\u001b[0;32m/opt/anaconda3/envs/tensorflow/lib/python3.7/site-packages/tensorflow_core/python/keras/engine/training.py\u001b[0m in \u001b[0;36mfit\u001b[0;34m(self, x, y, batch_size, epochs, verbose, callbacks, validation_split, validation_data, shuffle, class_weight, sample_weight, initial_epoch, steps_per_epoch, validation_steps, validation_freq, max_queue_size, workers, use_multiprocessing, **kwargs)\u001b[0m\n\u001b[1;32m    726\u001b[0m         \u001b[0mmax_queue_size\u001b[0m\u001b[0;34m=\u001b[0m\u001b[0mmax_queue_size\u001b[0m\u001b[0;34m,\u001b[0m\u001b[0;34m\u001b[0m\u001b[0;34m\u001b[0m\u001b[0m\n\u001b[1;32m    727\u001b[0m         \u001b[0mworkers\u001b[0m\u001b[0;34m=\u001b[0m\u001b[0mworkers\u001b[0m\u001b[0;34m,\u001b[0m\u001b[0;34m\u001b[0m\u001b[0;34m\u001b[0m\u001b[0m\n\u001b[0;32m--> 728\u001b[0;31m         use_multiprocessing=use_multiprocessing)\n\u001b[0m\u001b[1;32m    729\u001b[0m \u001b[0;34m\u001b[0m\u001b[0m\n\u001b[1;32m    730\u001b[0m   def evaluate(self,\n",
      "\u001b[0;32m/opt/anaconda3/envs/tensorflow/lib/python3.7/site-packages/tensorflow_core/python/keras/engine/training_arrays.py\u001b[0m in \u001b[0;36mfit\u001b[0;34m(self, model, x, y, batch_size, epochs, verbose, callbacks, validation_split, validation_data, shuffle, class_weight, sample_weight, initial_epoch, steps_per_epoch, validation_steps, validation_freq, **kwargs)\u001b[0m\n\u001b[1;32m    640\u001b[0m         \u001b[0msteps\u001b[0m\u001b[0;34m=\u001b[0m\u001b[0msteps_per_epoch\u001b[0m\u001b[0;34m,\u001b[0m\u001b[0;34m\u001b[0m\u001b[0;34m\u001b[0m\u001b[0m\n\u001b[1;32m    641\u001b[0m         \u001b[0mvalidation_split\u001b[0m\u001b[0;34m=\u001b[0m\u001b[0mvalidation_split\u001b[0m\u001b[0;34m,\u001b[0m\u001b[0;34m\u001b[0m\u001b[0;34m\u001b[0m\u001b[0m\n\u001b[0;32m--> 642\u001b[0;31m         shuffle=shuffle)\n\u001b[0m\u001b[1;32m    643\u001b[0m \u001b[0;34m\u001b[0m\u001b[0m\n\u001b[1;32m    644\u001b[0m     \u001b[0;32mif\u001b[0m \u001b[0mvalidation_data\u001b[0m\u001b[0;34m:\u001b[0m\u001b[0;34m\u001b[0m\u001b[0;34m\u001b[0m\u001b[0m\n",
      "\u001b[0;32m/opt/anaconda3/envs/tensorflow/lib/python3.7/site-packages/tensorflow_core/python/keras/engine/training.py\u001b[0m in \u001b[0;36m_standardize_user_data\u001b[0;34m(self, x, y, sample_weight, class_weight, batch_size, check_steps, steps_name, steps, validation_split, shuffle, extract_tensors_from_dataset)\u001b[0m\n\u001b[1;32m   2417\u001b[0m     \u001b[0;31m# First, we build the model on the fly if necessary.\u001b[0m\u001b[0;34m\u001b[0m\u001b[0;34m\u001b[0m\u001b[0;34m\u001b[0m\u001b[0m\n\u001b[1;32m   2418\u001b[0m     \u001b[0;32mif\u001b[0m \u001b[0;32mnot\u001b[0m \u001b[0mself\u001b[0m\u001b[0;34m.\u001b[0m\u001b[0minputs\u001b[0m\u001b[0;34m:\u001b[0m\u001b[0;34m\u001b[0m\u001b[0;34m\u001b[0m\u001b[0m\n\u001b[0;32m-> 2419\u001b[0;31m       \u001b[0mall_inputs\u001b[0m\u001b[0;34m,\u001b[0m \u001b[0my_input\u001b[0m\u001b[0;34m,\u001b[0m \u001b[0mdict_inputs\u001b[0m \u001b[0;34m=\u001b[0m \u001b[0mself\u001b[0m\u001b[0;34m.\u001b[0m\u001b[0m_build_model_with_inputs\u001b[0m\u001b[0;34m(\u001b[0m\u001b[0mx\u001b[0m\u001b[0;34m,\u001b[0m \u001b[0my\u001b[0m\u001b[0;34m)\u001b[0m\u001b[0;34m\u001b[0m\u001b[0;34m\u001b[0m\u001b[0m\n\u001b[0m\u001b[1;32m   2420\u001b[0m       \u001b[0mis_build_called\u001b[0m \u001b[0;34m=\u001b[0m \u001b[0;32mTrue\u001b[0m\u001b[0;34m\u001b[0m\u001b[0;34m\u001b[0m\u001b[0m\n\u001b[1;32m   2421\u001b[0m     \u001b[0;32melse\u001b[0m\u001b[0;34m:\u001b[0m\u001b[0;34m\u001b[0m\u001b[0;34m\u001b[0m\u001b[0m\n",
      "\u001b[0;32m/opt/anaconda3/envs/tensorflow/lib/python3.7/site-packages/tensorflow_core/python/keras/engine/training.py\u001b[0m in \u001b[0;36m_build_model_with_inputs\u001b[0;34m(self, inputs, targets)\u001b[0m\n\u001b[1;32m   2580\u001b[0m     \u001b[0;31m# or lists of arrays, and extract a flat list of inputs from the passed\u001b[0m\u001b[0;34m\u001b[0m\u001b[0;34m\u001b[0m\u001b[0;34m\u001b[0m\u001b[0m\n\u001b[1;32m   2581\u001b[0m     \u001b[0;31m# structure.\u001b[0m\u001b[0;34m\u001b[0m\u001b[0;34m\u001b[0m\u001b[0;34m\u001b[0m\u001b[0m\n\u001b[0;32m-> 2582\u001b[0;31m     \u001b[0mtraining_utils\u001b[0m\u001b[0;34m.\u001b[0m\u001b[0mvalidate_input_types\u001b[0m\u001b[0;34m(\u001b[0m\u001b[0minputs\u001b[0m\u001b[0;34m,\u001b[0m \u001b[0morig_inputs\u001b[0m\u001b[0;34m)\u001b[0m\u001b[0;34m\u001b[0m\u001b[0;34m\u001b[0m\u001b[0m\n\u001b[0m\u001b[1;32m   2583\u001b[0m \u001b[0;34m\u001b[0m\u001b[0m\n\u001b[1;32m   2584\u001b[0m     \u001b[0;32mif\u001b[0m \u001b[0misinstance\u001b[0m\u001b[0;34m(\u001b[0m\u001b[0minputs\u001b[0m\u001b[0;34m,\u001b[0m \u001b[0;34m(\u001b[0m\u001b[0mlist\u001b[0m\u001b[0;34m,\u001b[0m \u001b[0mtuple\u001b[0m\u001b[0;34m)\u001b[0m\u001b[0;34m)\u001b[0m\u001b[0;34m:\u001b[0m\u001b[0;34m\u001b[0m\u001b[0;34m\u001b[0m\u001b[0m\n",
      "\u001b[0;32m/opt/anaconda3/envs/tensorflow/lib/python3.7/site-packages/tensorflow_core/python/keras/engine/training_utils.py\u001b[0m in \u001b[0;36mvalidate_input_types\u001b[0;34m(inp, orig_inp, allow_dict, field_name)\u001b[0m\n\u001b[1;32m   1149\u001b[0m     raise ValueError(\n\u001b[1;32m   1150\u001b[0m         \u001b[0;34m'Please provide as model inputs either a single array or a list of '\u001b[0m\u001b[0;34m\u001b[0m\u001b[0;34m\u001b[0m\u001b[0m\n\u001b[0;32m-> 1151\u001b[0;31m         'arrays. You passed: {}={}'.format(field_name, orig_inp))\n\u001b[0m\u001b[1;32m   1152\u001b[0m \u001b[0;34m\u001b[0m\u001b[0m\n\u001b[1;32m   1153\u001b[0m \u001b[0;34m\u001b[0m\u001b[0m\n",
      "\u001b[0;31mValueError\u001b[0m: Please provide as model inputs either a single array or a list of arrays. You passed: inputs=        triage_MAP   age  gender  score_CCI  n_ed_30d  intime_ed_hour  \\\n0        86.666667  27.0       0          3         0               9   \n1        62.333333  53.0       1          3         0              18   \n2        90.333333  74.0       1          0         0              14   \n3        83.333333  58.0       1          2         0               8   \n4       128.000000  82.0       1          0         0              11   \n...            ...   ...     ...        ...       ...             ...   \n333705  101.000000  52.0       0          0         0              14   \n333706   96.000000  59.0       1          7         1              19   \n333707   81.333333  38.0       0          0         0              11   \n333708   92.000000  36.0       0          0         0              16   \n333709   73.666667  46.0       0          0         0              22   \n\n        triage_pain_recoded  triage_acuity  icu_los  hos_los  ed_los  \\\n0                       7.0            3.0     -1.0     -1.0     0.0   \n1                       0.0            2.0     -1.0    212.0     0.0   \n2                       0.0            2.0    149.0    308.0     0.0   \n3                       6.0            3.0     -1.0     17.0     0.0   \n4                       0.0            1.0     -1.0     20.0     0.0   \n...                     ...            ...      ...      ...     ...   \n333705                  0.0            2.0     -1.0     64.0     0.0   \n333706                  0.0            2.0     -1.0    157.0     0.0   \n333707                  7.0            3.0     -1.0     -1.0     0.0   \n333708                 10.0            2.0     -1.0     91.0     0.0   \n333709                  7.0            2.0     -1.0     37.0     0.0   \n\n        sum_chiefcom  sum_eci  ed_temperature_last_recoded  \\\n0                  0        2                         98.5   \n1                  0        6                         99.4   \n2                  0        0                         97.6   \n3                  0        3                         98.0   \n4                  0        0                         98.2   \n...              ...      ...                          ...   \n333705             0        0                         98.9   \n333706             1       11                         97.6   \n333707             1        1                         98.3   \n333708             1        1                         98.1   \n333709             1        0                         98.1   \n\n        ed_heartrate_last_recoded  ed_resprate_last_recoded  \\\n0                            82.0                        14   \n1                            88.0                        26   \n2                            93.0                        16   \n3                            70.0                        16   \n4                            98.0                        19   \n...                           ...                       ...   \n333705                       89.0                        18   \n333706                       85.0                        20   \n333707                       78.0                        18   \n333708                       78.0                        17   \n333709                       58.0                        14   \n\n        ed_o2sat_last_recoded  n_med  n_medrecon  \n0                        99.0      0           7  \n1                        99.0      2          22  \n2                        92.0      1          13  \n3                        99.0      3           1  \n4                        98.0      8           4  \n...                       ...    ...         ...  \n333705                   95.0      0           2  \n333706                   99.0      3          15  \n333707                  100.0      2           1  \n333708                   98.0      0           0  \n333709                   95.0     11           2  \n\n[333710 rows x 19 columns]"
     ]
    }
   ],
   "source": [
    "mlp = MLP()\n",
    "mlp.compile(loss='binary_crossentropy', \n",
    "              optimizer=optimizers.Adam(learning_rate=0.001), \n",
    "              metrics=['accuracy', 'AUC',\n",
    "                       'TruePositives', 'TrueNegatives', 'Precision', 'Recall'])\n",
    "start = time.time()\n",
    "mlp.fit(X_train, y_train, batch_size=200, epochs=20)\n",
    "runtime = time.time() - start\n",
    "print('Training time:', runtime, 'seconds')\n",
    "mlp.save('hospitalization_triage_mlp')"
   ]
  },
  {
   "cell_type": "code",
   "execution_count": null,
   "metadata": {},
   "outputs": [],
   "source": [
    "print(\"MLP:\")\n",
    "mlp = load_model('72h_ed_revisit_mlp')\n",
    "probs = mlp.predict(X_test.astype(np.float32))\n",
    "result = PlotROCCurve(probs,y_test, ci=confidence_interval, random_seed=random_seed)\n",
    "results = [\"MLP\"]\n",
    "results.extend(result)\n",
    "results.append(runtime)\n",
    "result_list.append(results)"
   ]
  },
  {
   "cell_type": "code",
   "execution_count": null,
   "metadata": {},
   "outputs": [],
   "source": [
    "# skip this cell if not retraining\n",
    "mlp = MLP()\n",
    "mlp.compile(loss='binary_crossentropy', \n",
    "              optimizer=optimizers.Adam(learning_rate=0.001), \n",
    "              metrics=['accuracy', 'AUC', {'auprc': metrics.AUC(name='auprc', curve='PR')}, \n",
    "                       'TruePositives', 'TrueNegatives', 'Precision', 'Recall'])\n",
    "start = time.time()\n",
    "mlp.fit(X_train.astype(np.float32), y_train, batch_size=200, epochs=20)\n",
    "runtime = time.time() - start\n",
    "print('Training time:', runtime, 'seconds')\n",
    "mlp.save('72h_ed_revisit_mlp')"
   ]
  },
  {
   "cell_type": "code",
   "execution_count": 44,
   "metadata": {},
   "outputs": [],
   "source": [
    "df1=df[variable,''].copy()\n",
    "df1.to_csv('visualisation.csv')"
   ]
  },
  {
   "cell_type": "code",
   "execution_count": 45,
   "metadata": {},
   "outputs": [],
   "source": [
    "df.to_csv('df-all.csv')"
   ]
  },
  {
   "cell_type": "code",
   "execution_count": null,
   "metadata": {},
   "outputs": [],
   "source": []
  }
 ],
 "metadata": {
  "kernelspec": {
   "display_name": "Python 3 (ipykernel)",
   "language": "python",
   "name": "python3"
  },
  "language_info": {
   "codemirror_mode": {
    "name": "ipython",
    "version": 3
   },
   "file_extension": ".py",
   "mimetype": "text/x-python",
   "name": "python",
   "nbconvert_exporter": "python",
   "pygments_lexer": "ipython3",
   "version": "3.7.7"
  },
  "vscode": {
   "interpreter": {
    "hash": "29bc6fb767ed4294db6b39c39c9d90ba3f5587e5b8a682d2dfc088b2cafbf2c0"
   }
  }
 },
 "nbformat": 4,
 "nbformat_minor": 4
}
